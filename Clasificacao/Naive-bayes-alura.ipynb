{
 "cells": [
  {
   "cell_type": "markdown",
   "metadata": {},
   "source": [
    "## Classificação - Naive Bayes"
   ]
  },
  {
   "cell_type": "code",
   "execution_count": 1,
   "metadata": {
    "collapsed": true
   },
   "outputs": [],
   "source": [
    "import pandas as pd\n",
    "from sklearn.naive_bayes import MultinomialNB"
   ]
  },
  {
   "cell_type": "code",
   "execution_count": 2,
   "metadata": {},
   "outputs": [
    {
     "data": {
      "text/html": [
       "<div>\n",
       "<style>\n",
       "    .dataframe thead tr:only-child th {\n",
       "        text-align: right;\n",
       "    }\n",
       "\n",
       "    .dataframe thead th {\n",
       "        text-align: left;\n",
       "    }\n",
       "\n",
       "    .dataframe tbody tr th {\n",
       "        vertical-align: top;\n",
       "    }\n",
       "</style>\n",
       "<table border=\"1\" class=\"dataframe\">\n",
       "  <thead>\n",
       "    <tr style=\"text-align: right;\">\n",
       "      <th></th>\n",
       "      <th>Country</th>\n",
       "      <th>Region</th>\n",
       "      <th>Happiness Rank</th>\n",
       "      <th>Happiness Score</th>\n",
       "      <th>Standard Error</th>\n",
       "      <th>Economy (GDP per Capita)</th>\n",
       "      <th>Family</th>\n",
       "      <th>Health (Life Expectancy)</th>\n",
       "      <th>Freedom</th>\n",
       "      <th>Trust (Government Corruption)</th>\n",
       "      <th>Generosity</th>\n",
       "      <th>Dystopia Residual</th>\n",
       "    </tr>\n",
       "  </thead>\n",
       "  <tbody>\n",
       "    <tr>\n",
       "      <th>148</th>\n",
       "      <td>Chad</td>\n",
       "      <td>Sub-Saharan Africa</td>\n",
       "      <td>149</td>\n",
       "      <td>3.667</td>\n",
       "      <td>0.03830</td>\n",
       "      <td>0.34193</td>\n",
       "      <td>0.76062</td>\n",
       "      <td>0.15010</td>\n",
       "      <td>0.23501</td>\n",
       "      <td>0.05269</td>\n",
       "      <td>0.18386</td>\n",
       "      <td>1.94296</td>\n",
       "    </tr>\n",
       "    <tr>\n",
       "      <th>142</th>\n",
       "      <td>Gabon</td>\n",
       "      <td>Sub-Saharan Africa</td>\n",
       "      <td>143</td>\n",
       "      <td>3.896</td>\n",
       "      <td>0.04547</td>\n",
       "      <td>1.06024</td>\n",
       "      <td>0.90528</td>\n",
       "      <td>0.43372</td>\n",
       "      <td>0.31914</td>\n",
       "      <td>0.11091</td>\n",
       "      <td>0.06822</td>\n",
       "      <td>0.99895</td>\n",
       "    </tr>\n",
       "    <tr>\n",
       "      <th>136</th>\n",
       "      <td>Angola</td>\n",
       "      <td>Sub-Saharan Africa</td>\n",
       "      <td>137</td>\n",
       "      <td>4.033</td>\n",
       "      <td>0.04758</td>\n",
       "      <td>0.75778</td>\n",
       "      <td>0.86040</td>\n",
       "      <td>0.16683</td>\n",
       "      <td>0.10384</td>\n",
       "      <td>0.07122</td>\n",
       "      <td>0.12344</td>\n",
       "      <td>1.94939</td>\n",
       "    </tr>\n",
       "    <tr>\n",
       "      <th>91</th>\n",
       "      <td>Morocco</td>\n",
       "      <td>Middle East and Northern Africa</td>\n",
       "      <td>92</td>\n",
       "      <td>5.013</td>\n",
       "      <td>0.03420</td>\n",
       "      <td>0.73479</td>\n",
       "      <td>0.64095</td>\n",
       "      <td>0.60954</td>\n",
       "      <td>0.41691</td>\n",
       "      <td>0.08546</td>\n",
       "      <td>0.07172</td>\n",
       "      <td>2.45373</td>\n",
       "    </tr>\n",
       "    <tr>\n",
       "      <th>156</th>\n",
       "      <td>Burundi</td>\n",
       "      <td>Sub-Saharan Africa</td>\n",
       "      <td>157</td>\n",
       "      <td>2.905</td>\n",
       "      <td>0.08658</td>\n",
       "      <td>0.01530</td>\n",
       "      <td>0.41587</td>\n",
       "      <td>0.22396</td>\n",
       "      <td>0.11850</td>\n",
       "      <td>0.10062</td>\n",
       "      <td>0.19727</td>\n",
       "      <td>1.83302</td>\n",
       "    </tr>\n",
       "  </tbody>\n",
       "</table>\n",
       "</div>"
      ],
      "text/plain": [
       "     Country                           Region  Happiness Rank  \\\n",
       "148     Chad               Sub-Saharan Africa             149   \n",
       "142    Gabon               Sub-Saharan Africa             143   \n",
       "136   Angola               Sub-Saharan Africa             137   \n",
       "91   Morocco  Middle East and Northern Africa              92   \n",
       "156  Burundi               Sub-Saharan Africa             157   \n",
       "\n",
       "     Happiness Score  Standard Error  Economy (GDP per Capita)   Family  \\\n",
       "148            3.667         0.03830                   0.34193  0.76062   \n",
       "142            3.896         0.04547                   1.06024  0.90528   \n",
       "136            4.033         0.04758                   0.75778  0.86040   \n",
       "91             5.013         0.03420                   0.73479  0.64095   \n",
       "156            2.905         0.08658                   0.01530  0.41587   \n",
       "\n",
       "     Health (Life Expectancy)  Freedom  Trust (Government Corruption)  \\\n",
       "148                   0.15010  0.23501                        0.05269   \n",
       "142                   0.43372  0.31914                        0.11091   \n",
       "136                   0.16683  0.10384                        0.07122   \n",
       "91                    0.60954  0.41691                        0.08546   \n",
       "156                   0.22396  0.11850                        0.10062   \n",
       "\n",
       "     Generosity  Dystopia Residual  \n",
       "148     0.18386            1.94296  \n",
       "142     0.06822            0.99895  \n",
       "136     0.12344            1.94939  \n",
       "91      0.07172            2.45373  \n",
       "156     0.19727            1.83302  "
      ]
     },
     "execution_count": 2,
     "metadata": {},
     "output_type": "execute_result"
    }
   ],
   "source": [
    "dados = pd.read_csv('15.csv')\n",
    "dados = dados.sample(frac=1)\n",
    "dados.head()"
   ]
  },
  {
   "cell_type": "code",
   "execution_count": 3,
   "metadata": {
    "collapsed": true
   },
   "outputs": [],
   "source": [
    "cls = MultinomialNB()"
   ]
  },
  {
   "cell_type": "code",
   "execution_count": 4,
   "metadata": {
    "collapsed": true
   },
   "outputs": [],
   "source": [
    "X = dados.drop([\"Country\",\"Region\", \"Happiness Rank\", 'Happiness Score', \"Standard Error\"], axis=1)"
   ]
  },
  {
   "cell_type": "code",
   "execution_count": 5,
   "metadata": {},
   "outputs": [
    {
     "data": {
      "text/plain": [
       "pandas.core.series.Series"
      ]
     },
     "execution_count": 5,
     "metadata": {},
     "output_type": "execute_result"
    }
   ],
   "source": [
    "Y = dados[\"Region\"]\n",
    "type(Y)"
   ]
  },
  {
   "cell_type": "code",
   "execution_count": 6,
   "metadata": {},
   "outputs": [
    {
     "data": {
      "text/plain": [
       "(158, 1)"
      ]
     },
     "execution_count": 6,
     "metadata": {},
     "output_type": "execute_result"
    }
   ],
   "source": [
    "\n",
    "Y.to_frame().shape"
   ]
  },
  {
   "cell_type": "code",
   "execution_count": 7,
   "metadata": {},
   "outputs": [
    {
     "data": {
      "text/plain": [
       "(158, 7)"
      ]
     },
     "execution_count": 7,
     "metadata": {},
     "output_type": "execute_result"
    }
   ],
   "source": [
    "X.shape"
   ]
  },
  {
   "cell_type": "code",
   "execution_count": 8,
   "metadata": {},
   "outputs": [
    {
     "name": "stdout",
     "output_type": "stream",
     "text": [
      "<class 'numpy.ndarray'>\n"
     ]
    }
   ],
   "source": [
    "\n",
    "X_train = X[:140]\n",
    "Y_train = Y[:140]\n",
    "cls.fit(X_train, Y_train)\n",
    "\n",
    "resultado = cls.predict(X[140:])\n",
    "\n",
    "print (type(resultado))\n"
   ]
  },
  {
   "cell_type": "code",
   "execution_count": 11,
   "metadata": {},
   "outputs": [
    {
     "data": {
      "text/plain": [
       "array(['Central and Eastern Europe', 'Sub-Saharan Africa',\n",
       "       'Sub-Saharan Africa', 'Central and Eastern Europe',\n",
       "       'Sub-Saharan Africa', 'Sub-Saharan Africa',\n",
       "       'Central and Eastern Europe', 'Sub-Saharan Africa',\n",
       "       'Sub-Saharan Africa', 'Central and Eastern Europe',\n",
       "       'Sub-Saharan Africa', 'Sub-Saharan Africa',\n",
       "       'Central and Eastern Europe', 'Sub-Saharan Africa',\n",
       "       'Sub-Saharan Africa', 'Sub-Saharan Africa',\n",
       "       'Central and Eastern Europe', 'Sub-Saharan Africa'],\n",
       "      dtype='<U31')"
      ]
     },
     "execution_count": 11,
     "metadata": {},
     "output_type": "execute_result"
    }
   ],
   "source": [
    "resultado"
   ]
  },
  {
   "cell_type": "code",
   "execution_count": 108,
   "metadata": {},
   "outputs": [
    {
     "data": {
      "text/plain": [
       "67     Middle East and Northern Africa\n",
       "130                 Sub-Saharan Africa\n",
       "157                 Sub-Saharan Africa\n",
       "42         Latin America and Caribbean\n",
       "50         Latin America and Caribbean\n",
       "141                 Sub-Saharan Africa\n",
       "71                        Eastern Asia\n",
       "87                      Western Europe\n",
       "104        Latin America and Caribbean\n",
       "35                      Western Europe\n",
       "146                 Sub-Saharan Africa\n",
       "151                 Sub-Saharan Africa\n",
       "19     Middle East and Northern Africa\n",
       "48     Middle East and Northern Africa\n",
       "3                       Western Europe\n",
       "138                 Sub-Saharan Africa\n",
       "82          Central and Eastern Europe\n",
       "98                   Southeastern Asia\n",
       "Name: Region, dtype: object"
      ]
     },
     "execution_count": 108,
     "metadata": {},
     "output_type": "execute_result"
    }
   ],
   "source": [
    "Y[140:]"
   ]
  },
  {
   "cell_type": "code",
   "execution_count": null,
   "metadata": {
    "collapsed": true
   },
   "outputs": [],
   "source": []
  }
 ],
 "metadata": {
  "kernelspec": {
   "display_name": "Python 3",
   "language": "python",
   "name": "python3"
  },
  "language_info": {
   "codemirror_mode": {
    "name": "ipython",
    "version": 3
   },
   "file_extension": ".py",
   "mimetype": "text/x-python",
   "name": "python",
   "nbconvert_exporter": "python",
   "pygments_lexer": "ipython3",
   "version": "3.6.2"
  }
 },
 "nbformat": 4,
 "nbformat_minor": 2
}

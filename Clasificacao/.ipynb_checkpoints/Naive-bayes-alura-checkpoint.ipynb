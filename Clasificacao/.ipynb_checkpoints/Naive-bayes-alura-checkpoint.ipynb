{
 "cells": [
  {
   "cell_type": "markdown",
   "metadata": {},
   "source": [
    "## Classificação - Naive Bayes"
   ]
  },
  {
   "cell_type": "code",
   "execution_count": 9,
   "metadata": {
    "collapsed": true
   },
   "outputs": [],
   "source": [
    "import pandas as pd\n",
    "from sklearn.naive_bayes import MultinomialNB"
   ]
  },
  {
   "cell_type": "code",
   "execution_count": 133,
   "metadata": {},
   "outputs": [
    {
     "data": {
      "text/html": [
       "<div>\n",
       "<style>\n",
       "    .dataframe thead tr:only-child th {\n",
       "        text-align: right;\n",
       "    }\n",
       "\n",
       "    .dataframe thead th {\n",
       "        text-align: left;\n",
       "    }\n",
       "\n",
       "    .dataframe tbody tr th {\n",
       "        vertical-align: top;\n",
       "    }\n",
       "</style>\n",
       "<table border=\"1\" class=\"dataframe\">\n",
       "  <thead>\n",
       "    <tr style=\"text-align: right;\">\n",
       "      <th></th>\n",
       "      <th>Country</th>\n",
       "      <th>Region</th>\n",
       "      <th>Happiness Rank</th>\n",
       "      <th>Happiness Score</th>\n",
       "      <th>Standard Error</th>\n",
       "      <th>Economy (GDP per Capita)</th>\n",
       "      <th>Family</th>\n",
       "      <th>Health (Life Expectancy)</th>\n",
       "      <th>Freedom</th>\n",
       "      <th>Trust (Government Corruption)</th>\n",
       "      <th>Generosity</th>\n",
       "      <th>Dystopia Residual</th>\n",
       "    </tr>\n",
       "  </thead>\n",
       "  <tbody>\n",
       "    <tr>\n",
       "      <th>31</th>\n",
       "      <td>Uruguay</td>\n",
       "      <td>Latin America and Caribbean</td>\n",
       "      <td>32</td>\n",
       "      <td>6.485</td>\n",
       "      <td>0.04539</td>\n",
       "      <td>1.06166</td>\n",
       "      <td>1.20890</td>\n",
       "      <td>0.81160</td>\n",
       "      <td>0.60362</td>\n",
       "      <td>0.24558</td>\n",
       "      <td>0.23240</td>\n",
       "      <td>2.32142</td>\n",
       "    </tr>\n",
       "    <tr>\n",
       "      <th>138</th>\n",
       "      <td>Congo (Brazzaville)</td>\n",
       "      <td>Sub-Saharan Africa</td>\n",
       "      <td>139</td>\n",
       "      <td>3.989</td>\n",
       "      <td>0.06682</td>\n",
       "      <td>0.67866</td>\n",
       "      <td>0.66290</td>\n",
       "      <td>0.31051</td>\n",
       "      <td>0.41466</td>\n",
       "      <td>0.11686</td>\n",
       "      <td>0.12388</td>\n",
       "      <td>1.68135</td>\n",
       "    </tr>\n",
       "    <tr>\n",
       "      <th>61</th>\n",
       "      <td>Croatia</td>\n",
       "      <td>Central and Eastern Europe</td>\n",
       "      <td>62</td>\n",
       "      <td>5.759</td>\n",
       "      <td>0.04394</td>\n",
       "      <td>1.08254</td>\n",
       "      <td>0.79624</td>\n",
       "      <td>0.78805</td>\n",
       "      <td>0.25883</td>\n",
       "      <td>0.02430</td>\n",
       "      <td>0.05444</td>\n",
       "      <td>2.75414</td>\n",
       "    </tr>\n",
       "    <tr>\n",
       "      <th>28</th>\n",
       "      <td>France</td>\n",
       "      <td>Western Europe</td>\n",
       "      <td>29</td>\n",
       "      <td>6.575</td>\n",
       "      <td>0.03512</td>\n",
       "      <td>1.27778</td>\n",
       "      <td>1.26038</td>\n",
       "      <td>0.94579</td>\n",
       "      <td>0.55011</td>\n",
       "      <td>0.20646</td>\n",
       "      <td>0.12332</td>\n",
       "      <td>2.21126</td>\n",
       "    </tr>\n",
       "    <tr>\n",
       "      <th>117</th>\n",
       "      <td>Sudan</td>\n",
       "      <td>Sub-Saharan Africa</td>\n",
       "      <td>118</td>\n",
       "      <td>4.550</td>\n",
       "      <td>0.06740</td>\n",
       "      <td>0.52107</td>\n",
       "      <td>1.01404</td>\n",
       "      <td>0.36878</td>\n",
       "      <td>0.10081</td>\n",
       "      <td>0.14660</td>\n",
       "      <td>0.19062</td>\n",
       "      <td>2.20857</td>\n",
       "    </tr>\n",
       "  </tbody>\n",
       "</table>\n",
       "</div>"
      ],
      "text/plain": [
       "                 Country                       Region  Happiness Rank  \\\n",
       "31               Uruguay  Latin America and Caribbean              32   \n",
       "138  Congo (Brazzaville)           Sub-Saharan Africa             139   \n",
       "61               Croatia   Central and Eastern Europe              62   \n",
       "28                France               Western Europe              29   \n",
       "117                Sudan           Sub-Saharan Africa             118   \n",
       "\n",
       "     Happiness Score  Standard Error  Economy (GDP per Capita)   Family  \\\n",
       "31             6.485         0.04539                   1.06166  1.20890   \n",
       "138            3.989         0.06682                   0.67866  0.66290   \n",
       "61             5.759         0.04394                   1.08254  0.79624   \n",
       "28             6.575         0.03512                   1.27778  1.26038   \n",
       "117            4.550         0.06740                   0.52107  1.01404   \n",
       "\n",
       "     Health (Life Expectancy)  Freedom  Trust (Government Corruption)  \\\n",
       "31                    0.81160  0.60362                        0.24558   \n",
       "138                   0.31051  0.41466                        0.11686   \n",
       "61                    0.78805  0.25883                        0.02430   \n",
       "28                    0.94579  0.55011                        0.20646   \n",
       "117                   0.36878  0.10081                        0.14660   \n",
       "\n",
       "     Generosity  Dystopia Residual  \n",
       "31      0.23240            2.32142  \n",
       "138     0.12388            1.68135  \n",
       "61      0.05444            2.75414  \n",
       "28      0.12332            2.21126  \n",
       "117     0.19062            2.20857  "
      ]
     },
     "execution_count": 133,
     "metadata": {},
     "output_type": "execute_result"
    }
   ],
   "source": [
    "dados = pd.read_csv('15.csv')\n",
    "dados = dados.sample(frac=1)\n",
    "dados.head()"
   ]
  },
  {
   "cell_type": "code",
   "execution_count": 85,
   "metadata": {
    "collapsed": true
   },
   "outputs": [],
   "source": [
    "cls = MultinomialNB()"
   ]
  },
  {
   "cell_type": "code",
   "execution_count": 102,
   "metadata": {},
   "outputs": [],
   "source": [
    "X = dados.drop([\"Country\",\"Region\", \"Happiness Rank\", 'Happiness Score', \"Standard Error\"], axis=1)"
   ]
  },
  {
   "cell_type": "code",
   "execution_count": 103,
   "metadata": {},
   "outputs": [
    {
     "data": {
      "text/plain": [
       "pandas.core.series.Series"
      ]
     },
     "execution_count": 103,
     "metadata": {},
     "output_type": "execute_result"
    }
   ],
   "source": [
    "Y = dados[\"Region\"]\n",
    "type(Y)"
   ]
  },
  {
   "cell_type": "code",
   "execution_count": 104,
   "metadata": {},
   "outputs": [
    {
     "data": {
      "text/plain": [
       "(158, 1)"
      ]
     },
     "execution_count": 104,
     "metadata": {},
     "output_type": "execute_result"
    }
   ],
   "source": [
    "\n",
    "Y.to_frame().shape"
   ]
  },
  {
   "cell_type": "code",
   "execution_count": 105,
   "metadata": {},
   "outputs": [
    {
     "data": {
      "text/plain": [
       "(158, 7)"
      ]
     },
     "execution_count": 105,
     "metadata": {},
     "output_type": "execute_result"
    }
   ],
   "source": [
    "X.shape"
   ]
  },
  {
   "cell_type": "code",
   "execution_count": 131,
   "metadata": {},
   "outputs": [
    {
     "name": "stdout",
     "output_type": "stream",
     "text": [
      "<class 'numpy.ndarray'>\n"
     ]
    }
   ],
   "source": [
    "\n",
    "X_train = X[:140]\n",
    "Y_train = Y[:140]\n",
    "cls.fit(X_train, Y_train)\n",
    "\n",
    "resultado = cls.predict(X[140:])\n",
    "\n",
    "print (type(resultado))\n"
   ]
  },
  {
   "cell_type": "code",
   "execution_count": 130,
   "metadata": {},
   "outputs": [
    {
     "data": {
      "text/html": [
       "<div>\n",
       "<style>\n",
       "    .dataframe thead tr:only-child th {\n",
       "        text-align: right;\n",
       "    }\n",
       "\n",
       "    .dataframe thead th {\n",
       "        text-align: left;\n",
       "    }\n",
       "\n",
       "    .dataframe tbody tr th {\n",
       "        vertical-align: top;\n",
       "    }\n",
       "</style>\n",
       "<table border=\"1\" class=\"dataframe\">\n",
       "  <thead>\n",
       "    <tr style=\"text-align: right;\">\n",
       "      <th></th>\n",
       "      <th>0</th>\n",
       "      <th>1</th>\n",
       "      <th>2</th>\n",
       "      <th>3</th>\n",
       "      <th>4</th>\n",
       "      <th>5</th>\n",
       "      <th>6</th>\n",
       "      <th>7</th>\n",
       "      <th>8</th>\n",
       "      <th>9</th>\n",
       "      <th>...</th>\n",
       "      <th>16</th>\n",
       "      <th>17</th>\n",
       "      <th>18</th>\n",
       "      <th>19</th>\n",
       "      <th>20</th>\n",
       "      <th>21</th>\n",
       "      <th>22</th>\n",
       "      <th>23</th>\n",
       "      <th>24</th>\n",
       "      <th>25</th>\n",
       "    </tr>\n",
       "  </thead>\n",
       "  <tbody>\n",
       "    <tr>\n",
       "      <th>0</th>\n",
       "      <td>C</td>\n",
       "      <td>e</td>\n",
       "      <td>n</td>\n",
       "      <td>t</td>\n",
       "      <td>r</td>\n",
       "      <td>a</td>\n",
       "      <td>l</td>\n",
       "      <td></td>\n",
       "      <td>a</td>\n",
       "      <td>n</td>\n",
       "      <td>...</td>\n",
       "      <td>e</td>\n",
       "      <td>r</td>\n",
       "      <td>n</td>\n",
       "      <td></td>\n",
       "      <td>E</td>\n",
       "      <td>u</td>\n",
       "      <td>r</td>\n",
       "      <td>o</td>\n",
       "      <td>p</td>\n",
       "      <td>e</td>\n",
       "    </tr>\n",
       "    <tr>\n",
       "      <th>1</th>\n",
       "      <td>S</td>\n",
       "      <td>u</td>\n",
       "      <td>b</td>\n",
       "      <td>-</td>\n",
       "      <td>S</td>\n",
       "      <td>a</td>\n",
       "      <td>h</td>\n",
       "      <td>a</td>\n",
       "      <td>r</td>\n",
       "      <td>a</td>\n",
       "      <td>...</td>\n",
       "      <td>c</td>\n",
       "      <td>a</td>\n",
       "      <td>None</td>\n",
       "      <td>None</td>\n",
       "      <td>None</td>\n",
       "      <td>None</td>\n",
       "      <td>None</td>\n",
       "      <td>None</td>\n",
       "      <td>None</td>\n",
       "      <td>None</td>\n",
       "    </tr>\n",
       "    <tr>\n",
       "      <th>2</th>\n",
       "      <td>S</td>\n",
       "      <td>u</td>\n",
       "      <td>b</td>\n",
       "      <td>-</td>\n",
       "      <td>S</td>\n",
       "      <td>a</td>\n",
       "      <td>h</td>\n",
       "      <td>a</td>\n",
       "      <td>r</td>\n",
       "      <td>a</td>\n",
       "      <td>...</td>\n",
       "      <td>c</td>\n",
       "      <td>a</td>\n",
       "      <td>None</td>\n",
       "      <td>None</td>\n",
       "      <td>None</td>\n",
       "      <td>None</td>\n",
       "      <td>None</td>\n",
       "      <td>None</td>\n",
       "      <td>None</td>\n",
       "      <td>None</td>\n",
       "    </tr>\n",
       "  </tbody>\n",
       "</table>\n",
       "<p>3 rows × 26 columns</p>\n",
       "</div>"
      ],
      "text/plain": [
       "  0  1  2  3  4  5  6  7  8  9   ...  16 17    18    19    20    21    22  \\\n",
       "0  C  e  n  t  r  a  l     a  n  ...   e  r     n           E     u     r   \n",
       "1  S  u  b  -  S  a  h  a  r  a  ...   c  a  None  None  None  None  None   \n",
       "2  S  u  b  -  S  a  h  a  r  a  ...   c  a  None  None  None  None  None   \n",
       "\n",
       "     23    24    25  \n",
       "0     o     p     e  \n",
       "1  None  None  None  \n",
       "2  None  None  None  \n",
       "\n",
       "[3 rows x 26 columns]"
      ]
     },
     "execution_count": 130,
     "metadata": {},
     "output_type": "execute_result"
    }
   ],
   "source": [
    "resultado.head(3)"
   ]
  },
  {
   "cell_type": "code",
   "execution_count": 108,
   "metadata": {},
   "outputs": [
    {
     "data": {
      "text/plain": [
       "67     Middle East and Northern Africa\n",
       "130                 Sub-Saharan Africa\n",
       "157                 Sub-Saharan Africa\n",
       "42         Latin America and Caribbean\n",
       "50         Latin America and Caribbean\n",
       "141                 Sub-Saharan Africa\n",
       "71                        Eastern Asia\n",
       "87                      Western Europe\n",
       "104        Latin America and Caribbean\n",
       "35                      Western Europe\n",
       "146                 Sub-Saharan Africa\n",
       "151                 Sub-Saharan Africa\n",
       "19     Middle East and Northern Africa\n",
       "48     Middle East and Northern Africa\n",
       "3                       Western Europe\n",
       "138                 Sub-Saharan Africa\n",
       "82          Central and Eastern Europe\n",
       "98                   Southeastern Asia\n",
       "Name: Region, dtype: object"
      ]
     },
     "execution_count": 108,
     "metadata": {},
     "output_type": "execute_result"
    }
   ],
   "source": [
    "Y[140:]"
   ]
  },
  {
   "cell_type": "code",
   "execution_count": null,
   "metadata": {
    "collapsed": true
   },
   "outputs": [],
   "source": []
  }
 ],
 "metadata": {
  "kernelspec": {
   "display_name": "Python 3",
   "language": "python",
   "name": "python3"
  },
  "language_info": {
   "codemirror_mode": {
    "name": "ipython",
    "version": 3
   },
   "file_extension": ".py",
   "mimetype": "text/x-python",
   "name": "python",
   "nbconvert_exporter": "python",
   "pygments_lexer": "ipython3",
   "version": "3.6.2"
  }
 },
 "nbformat": 4,
 "nbformat_minor": 2
}

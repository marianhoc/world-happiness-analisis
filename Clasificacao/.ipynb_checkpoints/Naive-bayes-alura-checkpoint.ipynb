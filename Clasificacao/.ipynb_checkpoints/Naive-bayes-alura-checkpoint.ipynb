{
 "cells": [
  {
   "cell_type": "markdown",
   "metadata": {},
   "source": [
    "## Classificação - Naive Bayes"
   ]
  },
  {
   "cell_type": "code",
   "execution_count": 2,
   "metadata": {},
   "outputs": [],
   "source": [
    "import pandas as pd\n",
    "from sklearn.naive_bayes import MultinomialNB"
   ]
  },
  {
   "cell_type": "code",
   "execution_count": 3,
   "metadata": {},
   "outputs": [
    {
     "data": {
      "text/html": [
       "<div>\n",
       "<style scoped>\n",
       "    .dataframe tbody tr th:only-of-type {\n",
       "        vertical-align: middle;\n",
       "    }\n",
       "\n",
       "    .dataframe tbody tr th {\n",
       "        vertical-align: top;\n",
       "    }\n",
       "\n",
       "    .dataframe thead th {\n",
       "        text-align: right;\n",
       "    }\n",
       "</style>\n",
       "<table border=\"1\" class=\"dataframe\">\n",
       "  <thead>\n",
       "    <tr style=\"text-align: right;\">\n",
       "      <th></th>\n",
       "      <th>Country</th>\n",
       "      <th>Region</th>\n",
       "      <th>Happiness Rank</th>\n",
       "      <th>Happiness Score</th>\n",
       "      <th>Standard Error</th>\n",
       "      <th>Economy (GDP per Capita)</th>\n",
       "      <th>Family</th>\n",
       "      <th>Health (Life Expectancy)</th>\n",
       "      <th>Freedom</th>\n",
       "      <th>Trust (Government Corruption)</th>\n",
       "      <th>Generosity</th>\n",
       "      <th>Dystopia Residual</th>\n",
       "    </tr>\n",
       "  </thead>\n",
       "  <tbody>\n",
       "    <tr>\n",
       "      <th>131</th>\n",
       "      <td>Sri Lanka</td>\n",
       "      <td>Southern Asia</td>\n",
       "      <td>132</td>\n",
       "      <td>4.271</td>\n",
       "      <td>0.03751</td>\n",
       "      <td>0.83524</td>\n",
       "      <td>1.01905</td>\n",
       "      <td>0.70806</td>\n",
       "      <td>0.53726</td>\n",
       "      <td>0.09179</td>\n",
       "      <td>0.40828</td>\n",
       "      <td>0.67108</td>\n",
       "    </tr>\n",
       "    <tr>\n",
       "      <th>56</th>\n",
       "      <td>Nicaragua</td>\n",
       "      <td>Latin America and Caribbean</td>\n",
       "      <td>57</td>\n",
       "      <td>5.828</td>\n",
       "      <td>0.05371</td>\n",
       "      <td>0.59325</td>\n",
       "      <td>1.14184</td>\n",
       "      <td>0.74314</td>\n",
       "      <td>0.55475</td>\n",
       "      <td>0.19317</td>\n",
       "      <td>0.27815</td>\n",
       "      <td>2.32407</td>\n",
       "    </tr>\n",
       "    <tr>\n",
       "      <th>21</th>\n",
       "      <td>Oman</td>\n",
       "      <td>Middle East and Northern Africa</td>\n",
       "      <td>22</td>\n",
       "      <td>6.853</td>\n",
       "      <td>0.05335</td>\n",
       "      <td>1.36011</td>\n",
       "      <td>1.08182</td>\n",
       "      <td>0.76276</td>\n",
       "      <td>0.63274</td>\n",
       "      <td>0.32524</td>\n",
       "      <td>0.21542</td>\n",
       "      <td>2.47489</td>\n",
       "    </tr>\n",
       "    <tr>\n",
       "      <th>149</th>\n",
       "      <td>Guinea</td>\n",
       "      <td>Sub-Saharan Africa</td>\n",
       "      <td>150</td>\n",
       "      <td>3.656</td>\n",
       "      <td>0.03590</td>\n",
       "      <td>0.17417</td>\n",
       "      <td>0.46475</td>\n",
       "      <td>0.24009</td>\n",
       "      <td>0.37725</td>\n",
       "      <td>0.12139</td>\n",
       "      <td>0.28657</td>\n",
       "      <td>1.99172</td>\n",
       "    </tr>\n",
       "    <tr>\n",
       "      <th>30</th>\n",
       "      <td>Czech Republic</td>\n",
       "      <td>Central and Eastern Europe</td>\n",
       "      <td>31</td>\n",
       "      <td>6.505</td>\n",
       "      <td>0.04168</td>\n",
       "      <td>1.17898</td>\n",
       "      <td>1.20643</td>\n",
       "      <td>0.84483</td>\n",
       "      <td>0.46364</td>\n",
       "      <td>0.02652</td>\n",
       "      <td>0.10686</td>\n",
       "      <td>2.67782</td>\n",
       "    </tr>\n",
       "  </tbody>\n",
       "</table>\n",
       "</div>"
      ],
      "text/plain": [
       "            Country                           Region  Happiness Rank  \\\n",
       "131       Sri Lanka                    Southern Asia             132   \n",
       "56        Nicaragua      Latin America and Caribbean              57   \n",
       "21             Oman  Middle East and Northern Africa              22   \n",
       "149          Guinea               Sub-Saharan Africa             150   \n",
       "30   Czech Republic       Central and Eastern Europe              31   \n",
       "\n",
       "     Happiness Score  Standard Error  Economy (GDP per Capita)   Family  \\\n",
       "131            4.271         0.03751                   0.83524  1.01905   \n",
       "56             5.828         0.05371                   0.59325  1.14184   \n",
       "21             6.853         0.05335                   1.36011  1.08182   \n",
       "149            3.656         0.03590                   0.17417  0.46475   \n",
       "30             6.505         0.04168                   1.17898  1.20643   \n",
       "\n",
       "     Health (Life Expectancy)  Freedom  Trust (Government Corruption)  \\\n",
       "131                   0.70806  0.53726                        0.09179   \n",
       "56                    0.74314  0.55475                        0.19317   \n",
       "21                    0.76276  0.63274                        0.32524   \n",
       "149                   0.24009  0.37725                        0.12139   \n",
       "30                    0.84483  0.46364                        0.02652   \n",
       "\n",
       "     Generosity  Dystopia Residual  \n",
       "131     0.40828            0.67108  \n",
       "56      0.27815            2.32407  \n",
       "21      0.21542            2.47489  \n",
       "149     0.28657            1.99172  \n",
       "30      0.10686            2.67782  "
      ]
     },
     "execution_count": 3,
     "metadata": {},
     "output_type": "execute_result"
    }
   ],
   "source": [
    "dados = pd.read_csv('../datasets/15.csv')\n",
    "dados = dados.sample(frac=1)\n",
    "dados.head()"
   ]
  },
  {
   "cell_type": "code",
   "execution_count": 3,
   "metadata": {
    "collapsed": true
   },
   "outputs": [],
   "source": [
    "cls = MultinomialNB()"
   ]
  },
  {
   "cell_type": "code",
   "execution_count": 4,
   "metadata": {
    "collapsed": true
   },
   "outputs": [],
   "source": [
    "X = dados.drop([\"Country\",\"Region\", \"Happiness Rank\", 'Happiness Score', \"Standard Error\"], axis=1)"
   ]
  },
  {
   "cell_type": "code",
   "execution_count": 5,
   "metadata": {},
   "outputs": [
    {
     "data": {
      "text/plain": [
       "pandas.core.series.Series"
      ]
     },
     "execution_count": 5,
     "metadata": {},
     "output_type": "execute_result"
    }
   ],
   "source": [
    "Y = dados[\"Region\"]\n",
    "type(Y)"
   ]
  },
  {
   "cell_type": "code",
   "execution_count": 6,
   "metadata": {},
   "outputs": [
    {
     "data": {
      "text/plain": [
       "(158, 1)"
      ]
     },
     "execution_count": 6,
     "metadata": {},
     "output_type": "execute_result"
    }
   ],
   "source": [
    "\n",
    "Y.to_frame().shape"
   ]
  },
  {
   "cell_type": "code",
   "execution_count": 7,
   "metadata": {},
   "outputs": [
    {
     "data": {
      "text/plain": [
       "(158, 7)"
      ]
     },
     "execution_count": 7,
     "metadata": {},
     "output_type": "execute_result"
    }
   ],
   "source": [
    "X.shape"
   ]
  },
  {
   "cell_type": "code",
   "execution_count": 8,
   "metadata": {},
   "outputs": [
    {
     "name": "stdout",
     "output_type": "stream",
     "text": [
      "<class 'numpy.ndarray'>\n"
     ]
    }
   ],
   "source": [
    "\n",
    "X_train = X[:140]\n",
    "Y_train = Y[:140]\n",
    "cls.fit(X_train, Y_train)\n",
    "\n",
    "resultado = cls.predict(X[140:])\n",
    "\n",
    "print (type(resultado))\n"
   ]
  },
  {
   "cell_type": "code",
   "execution_count": 11,
   "metadata": {},
   "outputs": [
    {
     "data": {
      "text/plain": [
       "array(['Central and Eastern Europe', 'Sub-Saharan Africa',\n",
       "       'Sub-Saharan Africa', 'Central and Eastern Europe',\n",
       "       'Sub-Saharan Africa', 'Sub-Saharan Africa',\n",
       "       'Central and Eastern Europe', 'Sub-Saharan Africa',\n",
       "       'Sub-Saharan Africa', 'Central and Eastern Europe',\n",
       "       'Sub-Saharan Africa', 'Sub-Saharan Africa',\n",
       "       'Central and Eastern Europe', 'Sub-Saharan Africa',\n",
       "       'Sub-Saharan Africa', 'Sub-Saharan Africa',\n",
       "       'Central and Eastern Europe', 'Sub-Saharan Africa'],\n",
       "      dtype='<U31')"
      ]
     },
     "execution_count": 11,
     "metadata": {},
     "output_type": "execute_result"
    }
   ],
   "source": [
    "resultado"
   ]
  },
  {
   "cell_type": "code",
   "execution_count": 108,
   "metadata": {},
   "outputs": [
    {
     "data": {
      "text/plain": [
       "67     Middle East and Northern Africa\n",
       "130                 Sub-Saharan Africa\n",
       "157                 Sub-Saharan Africa\n",
       "42         Latin America and Caribbean\n",
       "50         Latin America and Caribbean\n",
       "141                 Sub-Saharan Africa\n",
       "71                        Eastern Asia\n",
       "87                      Western Europe\n",
       "104        Latin America and Caribbean\n",
       "35                      Western Europe\n",
       "146                 Sub-Saharan Africa\n",
       "151                 Sub-Saharan Africa\n",
       "19     Middle East and Northern Africa\n",
       "48     Middle East and Northern Africa\n",
       "3                       Western Europe\n",
       "138                 Sub-Saharan Africa\n",
       "82          Central and Eastern Europe\n",
       "98                   Southeastern Asia\n",
       "Name: Region, dtype: object"
      ]
     },
     "execution_count": 108,
     "metadata": {},
     "output_type": "execute_result"
    }
   ],
   "source": [
    "Y[140:]"
   ]
  },
  {
   "cell_type": "code",
   "execution_count": null,
   "metadata": {
    "collapsed": true
   },
   "outputs": [],
   "source": []
  }
 ],
 "metadata": {
  "kernelspec": {
   "display_name": "Python 3",
   "language": "python",
   "name": "python3"
  },
  "language_info": {
   "codemirror_mode": {
    "name": "ipython",
    "version": 3
   },
   "file_extension": ".py",
   "mimetype": "text/x-python",
   "name": "python",
   "nbconvert_exporter": "python",
   "pygments_lexer": "ipython3",
   "version": "3.6.5"
  }
 },
 "nbformat": 4,
 "nbformat_minor": 2
}

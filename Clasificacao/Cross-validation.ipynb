{
 "cells": [
  {
   "cell_type": "code",
   "execution_count": 1,
   "metadata": {
    "collapsed": true
   },
   "outputs": [],
   "source": [
    "import pandas as pd\n",
    "import numpy as np\n",
    "\n",
    "from sklearn.naive_bayes import MultinomialNB\n",
    "from sklearn.model_selection import cross_validate\n",
    "from sklearn.metrics import recall_score\n"
   ]
  },
  {
   "cell_type": "code",
   "execution_count": 2,
   "metadata": {},
   "outputs": [
    {
     "data": {
      "text/html": [
       "<div>\n",
       "<style>\n",
       "    .dataframe thead tr:only-child th {\n",
       "        text-align: right;\n",
       "    }\n",
       "\n",
       "    .dataframe thead th {\n",
       "        text-align: left;\n",
       "    }\n",
       "\n",
       "    .dataframe tbody tr th {\n",
       "        vertical-align: top;\n",
       "    }\n",
       "</style>\n",
       "<table border=\"1\" class=\"dataframe\">\n",
       "  <thead>\n",
       "    <tr style=\"text-align: right;\">\n",
       "      <th></th>\n",
       "      <th>Country</th>\n",
       "      <th>Region</th>\n",
       "      <th>Happiness Rank</th>\n",
       "      <th>Happiness Score</th>\n",
       "      <th>Standard Error</th>\n",
       "      <th>Economy (GDP per Capita)</th>\n",
       "      <th>Family</th>\n",
       "      <th>Health (Life Expectancy)</th>\n",
       "      <th>Freedom</th>\n",
       "      <th>Trust (Government Corruption)</th>\n",
       "      <th>Generosity</th>\n",
       "      <th>Dystopia Residual</th>\n",
       "    </tr>\n",
       "  </thead>\n",
       "  <tbody>\n",
       "    <tr>\n",
       "      <th>35</th>\n",
       "      <td>Spain</td>\n",
       "      <td>Western Europe</td>\n",
       "      <td>36</td>\n",
       "      <td>6.329</td>\n",
       "      <td>0.03468</td>\n",
       "      <td>1.23011</td>\n",
       "      <td>1.31379</td>\n",
       "      <td>0.95562</td>\n",
       "      <td>0.45951</td>\n",
       "      <td>0.06398</td>\n",
       "      <td>0.18227</td>\n",
       "      <td>2.12367</td>\n",
       "    </tr>\n",
       "    <tr>\n",
       "      <th>72</th>\n",
       "      <td>Estonia</td>\n",
       "      <td>Central and Eastern Europe</td>\n",
       "      <td>73</td>\n",
       "      <td>5.429</td>\n",
       "      <td>0.04013</td>\n",
       "      <td>1.15174</td>\n",
       "      <td>1.22791</td>\n",
       "      <td>0.77361</td>\n",
       "      <td>0.44888</td>\n",
       "      <td>0.15184</td>\n",
       "      <td>0.08680</td>\n",
       "      <td>1.58782</td>\n",
       "    </tr>\n",
       "    <tr>\n",
       "      <th>13</th>\n",
       "      <td>Mexico</td>\n",
       "      <td>Latin America and Caribbean</td>\n",
       "      <td>14</td>\n",
       "      <td>7.187</td>\n",
       "      <td>0.04176</td>\n",
       "      <td>1.02054</td>\n",
       "      <td>0.91451</td>\n",
       "      <td>0.81444</td>\n",
       "      <td>0.48181</td>\n",
       "      <td>0.21312</td>\n",
       "      <td>0.14074</td>\n",
       "      <td>3.60214</td>\n",
       "    </tr>\n",
       "    <tr>\n",
       "      <th>134</th>\n",
       "      <td>Egypt</td>\n",
       "      <td>Middle East and Northern Africa</td>\n",
       "      <td>135</td>\n",
       "      <td>4.194</td>\n",
       "      <td>0.03260</td>\n",
       "      <td>0.88180</td>\n",
       "      <td>0.74700</td>\n",
       "      <td>0.61712</td>\n",
       "      <td>0.17288</td>\n",
       "      <td>0.06324</td>\n",
       "      <td>0.11291</td>\n",
       "      <td>1.59927</td>\n",
       "    </tr>\n",
       "    <tr>\n",
       "      <th>7</th>\n",
       "      <td>Sweden</td>\n",
       "      <td>Western Europe</td>\n",
       "      <td>8</td>\n",
       "      <td>7.364</td>\n",
       "      <td>0.03157</td>\n",
       "      <td>1.33171</td>\n",
       "      <td>1.28907</td>\n",
       "      <td>0.91087</td>\n",
       "      <td>0.65980</td>\n",
       "      <td>0.43844</td>\n",
       "      <td>0.36262</td>\n",
       "      <td>2.37119</td>\n",
       "    </tr>\n",
       "  </tbody>\n",
       "</table>\n",
       "</div>"
      ],
      "text/plain": [
       "     Country                           Region  Happiness Rank  \\\n",
       "35     Spain                   Western Europe              36   \n",
       "72   Estonia       Central and Eastern Europe              73   \n",
       "13    Mexico      Latin America and Caribbean              14   \n",
       "134    Egypt  Middle East and Northern Africa             135   \n",
       "7     Sweden                   Western Europe               8   \n",
       "\n",
       "     Happiness Score  Standard Error  Economy (GDP per Capita)   Family  \\\n",
       "35             6.329         0.03468                   1.23011  1.31379   \n",
       "72             5.429         0.04013                   1.15174  1.22791   \n",
       "13             7.187         0.04176                   1.02054  0.91451   \n",
       "134            4.194         0.03260                   0.88180  0.74700   \n",
       "7              7.364         0.03157                   1.33171  1.28907   \n",
       "\n",
       "     Health (Life Expectancy)  Freedom  Trust (Government Corruption)  \\\n",
       "35                    0.95562  0.45951                        0.06398   \n",
       "72                    0.77361  0.44888                        0.15184   \n",
       "13                    0.81444  0.48181                        0.21312   \n",
       "134                   0.61712  0.17288                        0.06324   \n",
       "7                     0.91087  0.65980                        0.43844   \n",
       "\n",
       "     Generosity  Dystopia Residual  \n",
       "35      0.18227            2.12367  \n",
       "72      0.08680            1.58782  \n",
       "13      0.14074            3.60214  \n",
       "134     0.11291            1.59927  \n",
       "7       0.36262            2.37119  "
      ]
     },
     "execution_count": 2,
     "metadata": {},
     "output_type": "execute_result"
    }
   ],
   "source": [
    "dados = pd.read_csv('15.csv')\n",
    "\n",
    "# desordenamos os dados pensando que na frente serão utilizados para treinamento e teste\n",
    "# \n",
    "dados = dados.sample(frac=1)\n",
    "dados.head()"
   ]
  },
  {
   "cell_type": "code",
   "execution_count": 3,
   "metadata": {},
   "outputs": [
    {
     "data": {
      "text/html": [
       "<div>\n",
       "<style>\n",
       "    .dataframe thead tr:only-child th {\n",
       "        text-align: right;\n",
       "    }\n",
       "\n",
       "    .dataframe thead th {\n",
       "        text-align: left;\n",
       "    }\n",
       "\n",
       "    .dataframe tbody tr th {\n",
       "        vertical-align: top;\n",
       "    }\n",
       "</style>\n",
       "<table border=\"1\" class=\"dataframe\">\n",
       "  <thead>\n",
       "    <tr style=\"text-align: right;\">\n",
       "      <th></th>\n",
       "      <th>Economy (GDP per Capita)</th>\n",
       "      <th>Family</th>\n",
       "      <th>Health (Life Expectancy)</th>\n",
       "      <th>Freedom</th>\n",
       "      <th>Trust (Government Corruption)</th>\n",
       "      <th>Generosity</th>\n",
       "      <th>Dystopia Residual</th>\n",
       "    </tr>\n",
       "  </thead>\n",
       "  <tbody>\n",
       "    <tr>\n",
       "      <th>35</th>\n",
       "      <td>1.23011</td>\n",
       "      <td>1.31379</td>\n",
       "      <td>0.95562</td>\n",
       "      <td>0.45951</td>\n",
       "      <td>0.06398</td>\n",
       "      <td>0.18227</td>\n",
       "      <td>2.12367</td>\n",
       "    </tr>\n",
       "    <tr>\n",
       "      <th>72</th>\n",
       "      <td>1.15174</td>\n",
       "      <td>1.22791</td>\n",
       "      <td>0.77361</td>\n",
       "      <td>0.44888</td>\n",
       "      <td>0.15184</td>\n",
       "      <td>0.08680</td>\n",
       "      <td>1.58782</td>\n",
       "    </tr>\n",
       "  </tbody>\n",
       "</table>\n",
       "</div>"
      ],
      "text/plain": [
       "    Economy (GDP per Capita)   Family  Health (Life Expectancy)  Freedom  \\\n",
       "35                   1.23011  1.31379                   0.95562  0.45951   \n",
       "72                   1.15174  1.22791                   0.77361  0.44888   \n",
       "\n",
       "    Trust (Government Corruption)  Generosity  Dystopia Residual  \n",
       "35                        0.06398     0.18227            2.12367  \n",
       "72                        0.15184     0.08680            1.58782  "
      ]
     },
     "execution_count": 3,
     "metadata": {},
     "output_type": "execute_result"
    }
   ],
   "source": [
    "# \"Region\" vai ser o atributo alvo \n",
    "# tentaremos treinar o clasificador para terntar identificar a regiao onde o pais \n",
    "# se localiza a partir dos indicadores\n",
    "\n",
    "Y = np.array(dados[\"Region\"])\n",
    "#len(Y) = 158\n",
    "\n",
    "# pegamos todos os dados exeito a posicao no ranking e o nome do pais \n",
    "# pois não sao relevantes\n",
    "\n",
    "X = np.array(dados.iloc[: , 5:])\n",
    "\n",
    "# representação em dataFrame do X\n",
    "\n",
    "dados.iloc[:,5:].head(2)"
   ]
  },
  {
   "cell_type": "code",
   "execution_count": 4,
   "metadata": {},
   "outputs": [
    {
     "data": {
      "text/plain": [
       "numpy.ndarray"
      ]
     },
     "execution_count": 4,
     "metadata": {},
     "output_type": "execute_result"
    }
   ],
   "source": [
    "type(X)"
   ]
  },
  {
   "cell_type": "markdown",
   "metadata": {},
   "source": [
    "###  Fazendo uma analise da quantidade presente de cada uma das regioes vemos que nos casos de america do norte e Australia o a quantidade de instanciaspresentes é bem pequena, contexto que não é recomendado para fazer uma analise do tipo cross-validation.\n",
    "Por tanto vamos remove-las"
   ]
  },
  {
   "cell_type": "code",
   "execution_count": 5,
   "metadata": {},
   "outputs": [
    {
     "name": "stdout",
     "output_type": "stream",
     "text": [
      "[['Australia and New Zealand' 2]\n",
      " ['Central and Eastern Europe' 29]\n",
      " ['Eastern Asia' 6]\n",
      " ['Latin America and Caribbean' 22]\n",
      " ['Middle East and Northern Africa' 20]\n",
      " ['North America' 2]\n",
      " ['Southeastern Asia' 9]\n",
      " ['Southern Asia' 7]\n",
      " ['Sub-Saharan Africa' 40]\n",
      " ['Western Europe' 21]]\n"
     ]
    }
   ],
   "source": [
    "# primeiro lista as ocorrencias de cada regiao\n",
    "\n",
    "unique, counts = np.unique(Y, return_counts=True)\n",
    "print (np.asarray((unique, counts)).T)"
   ]
  },
  {
   "cell_type": "code",
   "execution_count": 6,
   "metadata": {},
   "outputs": [
    {
     "data": {
      "text/plain": [
       "Regioes\n",
       "Australia and New Zealand           2\n",
       "Central and Eastern Europe         29\n",
       "Eastern Asia                        6\n",
       "Latin America and Caribbean        22\n",
       "Middle East and Northern Africa    20\n",
       "North America                       2\n",
       "Southeastern Asia                   9\n",
       "Southern Asia                       7\n",
       "Sub-Saharan Africa                 40\n",
       "Western Europe                     21\n",
       "dtype: int64"
      ]
     },
     "execution_count": 6,
     "metadata": {},
     "output_type": "execute_result"
    }
   ],
   "source": [
    "# Para conseguir manipular mais facilmente o conteudo do array que do atributo alvo (em formato de string) \n",
    "# vamos converter para DataFrame e tirar assim as regioes que se encontram presentes somente em 2 casos\n",
    "\n",
    "regioes = pd.DataFrame(data=Y)\n",
    "regioes.rename(index=str, columns={0: \"Regioes\"}, inplace=True)\n",
    "\n",
    "regioes.groupby(\"Regioes\").size()"
   ]
  },
  {
   "cell_type": "code",
   "execution_count": 7,
   "metadata": {},
   "outputs": [
    {
     "data": {
      "text/plain": [
       "Regioes\n",
       "Central and Eastern Europe         29\n",
       "Eastern Asia                        6\n",
       "Latin America and Caribbean        22\n",
       "Middle East and Northern Africa    20\n",
       "Southeastern Asia                   9\n",
       "Southern Asia                       7\n",
       "Sub-Saharan Africa                 40\n",
       "Western Europe                     21\n",
       "dtype: int64"
      ]
     },
     "execution_count": 7,
     "metadata": {},
     "output_type": "execute_result"
    }
   ],
   "source": [
    "# filtrando as regioes\n",
    "\n",
    "regioes = regioes[regioes.Regioes != 'Australia and New Zealand']\n",
    "regioes = regioes[regioes.Regioes != 'North America']\n",
    "\n",
    "regioes.groupby(\"Regioes\").size()"
   ]
  },
  {
   "cell_type": "markdown",
   "metadata": {},
   "source": [
    "** O atributo alvo vai ser atualizado com os registros sem as regioes que possuim poucas ocorrencias **"
   ]
  },
  {
   "cell_type": "code",
   "execution_count": 8,
   "metadata": {},
   "outputs": [
    {
     "data": {
      "text/html": [
       "<div>\n",
       "<style>\n",
       "    .dataframe thead tr:only-child th {\n",
       "        text-align: right;\n",
       "    }\n",
       "\n",
       "    .dataframe thead th {\n",
       "        text-align: left;\n",
       "    }\n",
       "\n",
       "    .dataframe tbody tr th {\n",
       "        vertical-align: top;\n",
       "    }\n",
       "</style>\n",
       "<table border=\"1\" class=\"dataframe\">\n",
       "  <thead>\n",
       "    <tr style=\"text-align: right;\">\n",
       "      <th></th>\n",
       "      <th>Regioes</th>\n",
       "    </tr>\n",
       "  </thead>\n",
       "  <tbody>\n",
       "    <tr>\n",
       "      <th>0</th>\n",
       "      <td>Western Europe</td>\n",
       "    </tr>\n",
       "    <tr>\n",
       "      <th>1</th>\n",
       "      <td>Central and Eastern Europe</td>\n",
       "    </tr>\n",
       "    <tr>\n",
       "      <th>2</th>\n",
       "      <td>Latin America and Caribbean</td>\n",
       "    </tr>\n",
       "    <tr>\n",
       "      <th>3</th>\n",
       "      <td>Middle East and Northern Africa</td>\n",
       "    </tr>\n",
       "    <tr>\n",
       "      <th>4</th>\n",
       "      <td>Western Europe</td>\n",
       "    </tr>\n",
       "  </tbody>\n",
       "</table>\n",
       "</div>"
      ],
      "text/plain": [
       "                           Regioes\n",
       "0                   Western Europe\n",
       "1       Central and Eastern Europe\n",
       "2      Latin America and Caribbean\n",
       "3  Middle East and Northern Africa\n",
       "4                   Western Europe"
      ]
     },
     "execution_count": 8,
     "metadata": {},
     "output_type": "execute_result"
    }
   ],
   "source": [
    "regioes.head()"
   ]
  },
  {
   "cell_type": "code",
   "execution_count": 9,
   "metadata": {
    "collapsed": true
   },
   "outputs": [],
   "source": [
    "Y = regioes['Regioes'].values"
   ]
  },
  {
   "cell_type": "markdown",
   "metadata": {},
   "source": [
    "** E tambem deverão ser removidos dentre os atributos de testes as entradas correspondentes às regiões que acabamosde retirar **"
   ]
  },
  {
   "cell_type": "code",
   "execution_count": 10,
   "metadata": {},
   "outputs": [
    {
     "data": {
      "text/html": [
       "<div>\n",
       "<style>\n",
       "    .dataframe thead tr:only-child th {\n",
       "        text-align: right;\n",
       "    }\n",
       "\n",
       "    .dataframe thead th {\n",
       "        text-align: left;\n",
       "    }\n",
       "\n",
       "    .dataframe tbody tr th {\n",
       "        vertical-align: top;\n",
       "    }\n",
       "</style>\n",
       "<table border=\"1\" class=\"dataframe\">\n",
       "  <thead>\n",
       "    <tr style=\"text-align: right;\">\n",
       "      <th></th>\n",
       "      <th>Country</th>\n",
       "      <th>Region</th>\n",
       "      <th>Happiness Rank</th>\n",
       "      <th>Happiness Score</th>\n",
       "      <th>Standard Error</th>\n",
       "      <th>Economy (GDP per Capita)</th>\n",
       "      <th>Family</th>\n",
       "      <th>Health (Life Expectancy)</th>\n",
       "      <th>Freedom</th>\n",
       "      <th>Trust (Government Corruption)</th>\n",
       "      <th>Generosity</th>\n",
       "      <th>Dystopia Residual</th>\n",
       "    </tr>\n",
       "  </thead>\n",
       "  <tbody>\n",
       "    <tr>\n",
       "      <th>8</th>\n",
       "      <td>New Zealand</td>\n",
       "      <td>Australia and New Zealand</td>\n",
       "      <td>9</td>\n",
       "      <td>7.286</td>\n",
       "      <td>0.03371</td>\n",
       "      <td>1.25018</td>\n",
       "      <td>1.31967</td>\n",
       "      <td>0.90837</td>\n",
       "      <td>0.63938</td>\n",
       "      <td>0.42922</td>\n",
       "      <td>0.47501</td>\n",
       "      <td>2.26425</td>\n",
       "    </tr>\n",
       "    <tr>\n",
       "      <th>9</th>\n",
       "      <td>Australia</td>\n",
       "      <td>Australia and New Zealand</td>\n",
       "      <td>10</td>\n",
       "      <td>7.284</td>\n",
       "      <td>0.04083</td>\n",
       "      <td>1.33358</td>\n",
       "      <td>1.30923</td>\n",
       "      <td>0.93156</td>\n",
       "      <td>0.65124</td>\n",
       "      <td>0.35637</td>\n",
       "      <td>0.43562</td>\n",
       "      <td>2.26646</td>\n",
       "    </tr>\n",
       "  </tbody>\n",
       "</table>\n",
       "</div>"
      ],
      "text/plain": [
       "       Country                     Region  Happiness Rank  Happiness Score  \\\n",
       "8  New Zealand  Australia and New Zealand               9            7.286   \n",
       "9    Australia  Australia and New Zealand              10            7.284   \n",
       "\n",
       "   Standard Error  Economy (GDP per Capita)   Family  \\\n",
       "8         0.03371                   1.25018  1.31967   \n",
       "9         0.04083                   1.33358  1.30923   \n",
       "\n",
       "   Health (Life Expectancy)  Freedom  Trust (Government Corruption)  \\\n",
       "8                   0.90837  0.63938                        0.42922   \n",
       "9                   0.93156  0.65124                        0.35637   \n",
       "\n",
       "   Generosity  Dystopia Residual  \n",
       "8     0.47501            2.26425  \n",
       "9     0.43562            2.26646  "
      ]
     },
     "execution_count": 10,
     "metadata": {},
     "output_type": "execute_result"
    }
   ],
   "source": [
    "dados[dados.Region == ('Australia and New Zealand')]"
   ]
  },
  {
   "cell_type": "code",
   "execution_count": 11,
   "metadata": {},
   "outputs": [
    {
     "data": {
      "text/html": [
       "<div>\n",
       "<style>\n",
       "    .dataframe thead tr:only-child th {\n",
       "        text-align: right;\n",
       "    }\n",
       "\n",
       "    .dataframe thead th {\n",
       "        text-align: left;\n",
       "    }\n",
       "\n",
       "    .dataframe tbody tr th {\n",
       "        vertical-align: top;\n",
       "    }\n",
       "</style>\n",
       "<table border=\"1\" class=\"dataframe\">\n",
       "  <thead>\n",
       "    <tr style=\"text-align: right;\">\n",
       "      <th></th>\n",
       "      <th>Country</th>\n",
       "      <th>Region</th>\n",
       "      <th>Happiness Rank</th>\n",
       "      <th>Happiness Score</th>\n",
       "      <th>Standard Error</th>\n",
       "      <th>Economy (GDP per Capita)</th>\n",
       "      <th>Family</th>\n",
       "      <th>Health (Life Expectancy)</th>\n",
       "      <th>Freedom</th>\n",
       "      <th>Trust (Government Corruption)</th>\n",
       "      <th>Generosity</th>\n",
       "      <th>Dystopia Residual</th>\n",
       "    </tr>\n",
       "  </thead>\n",
       "  <tbody>\n",
       "    <tr>\n",
       "      <th>14</th>\n",
       "      <td>United States</td>\n",
       "      <td>North America</td>\n",
       "      <td>15</td>\n",
       "      <td>7.119</td>\n",
       "      <td>0.03839</td>\n",
       "      <td>1.39451</td>\n",
       "      <td>1.24711</td>\n",
       "      <td>0.86179</td>\n",
       "      <td>0.54604</td>\n",
       "      <td>0.15890</td>\n",
       "      <td>0.40105</td>\n",
       "      <td>2.51011</td>\n",
       "    </tr>\n",
       "    <tr>\n",
       "      <th>4</th>\n",
       "      <td>Canada</td>\n",
       "      <td>North America</td>\n",
       "      <td>5</td>\n",
       "      <td>7.427</td>\n",
       "      <td>0.03553</td>\n",
       "      <td>1.32629</td>\n",
       "      <td>1.32261</td>\n",
       "      <td>0.90563</td>\n",
       "      <td>0.63297</td>\n",
       "      <td>0.32957</td>\n",
       "      <td>0.45811</td>\n",
       "      <td>2.45176</td>\n",
       "    </tr>\n",
       "  </tbody>\n",
       "</table>\n",
       "</div>"
      ],
      "text/plain": [
       "          Country         Region  Happiness Rank  Happiness Score  \\\n",
       "14  United States  North America              15            7.119   \n",
       "4          Canada  North America               5            7.427   \n",
       "\n",
       "    Standard Error  Economy (GDP per Capita)   Family  \\\n",
       "14         0.03839                   1.39451  1.24711   \n",
       "4          0.03553                   1.32629  1.32261   \n",
       "\n",
       "    Health (Life Expectancy)  Freedom  Trust (Government Corruption)  \\\n",
       "14                   0.86179  0.54604                        0.15890   \n",
       "4                    0.90563  0.63297                        0.32957   \n",
       "\n",
       "    Generosity  Dystopia Residual  \n",
       "14     0.40105            2.51011  \n",
       "4      0.45811            2.45176  "
      ]
     },
     "execution_count": 11,
     "metadata": {},
     "output_type": "execute_result"
    }
   ],
   "source": [
    "dados[dados.Region == (\"North America\")]"
   ]
  },
  {
   "cell_type": "code",
   "execution_count": 12,
   "metadata": {},
   "outputs": [
    {
     "name": "stdout",
     "output_type": "stream",
     "text": [
      "indice 13 = [ 1.39451] removido\n",
      "indice 44 = [ 1.25018] removido\n",
      "indice 97 = [ 1.32629] removido\n",
      "indice 112 = [ 1.33358] removido\n"
     ]
    }
   ],
   "source": [
    "indice = 0\n",
    "for i in X[:,0:1]:\n",
    "    \n",
    "    if ((i > 1.3945 and i < 1.39452)or\n",
    "        (i > 1.3262 and i < 1.3263)or\n",
    "        (i > 1.3335 and i < 1.33359)or\n",
    "        (i > 1.2501 and i < 1.25019)): \n",
    "        print (\"indice {} = {} removido\".format(indice, i))\n",
    "        X = np.delete(X, 1, 0)\n",
    "        \n",
    "    indice = indice + 1"
   ]
  },
  {
   "cell_type": "code",
   "execution_count": 13,
   "metadata": {},
   "outputs": [
    {
     "name": "stdout",
     "output_type": "stream",
     "text": [
      "Formato dos atributos \t\t(linhas, colunas) \t= (154, 7),  \n",
      "Formato do atributo alvo \t(linhas, colunas)\t= (154,)\n"
     ]
    }
   ],
   "source": [
    "\n",
    "print (\"Formato dos atributos \\t\\t(linhas, colunas) \\t= {},  \\nFormato do atributo alvo \\t(linhas, colunas)\\t= {}\".format(X.shape, Y.shape))"
   ]
  },
  {
   "cell_type": "code",
   "execution_count": 14,
   "metadata": {
    "collapsed": true
   },
   "outputs": [],
   "source": [
    "# classificador Naive Bayes\n",
    "clf = MultinomialNB()\n"
   ]
  },
  {
   "cell_type": "code",
   "execution_count": 15,
   "metadata": {
    "collapsed": true
   },
   "outputs": [
    {
     "name": "stderr",
     "output_type": "stream",
     "text": [
      "C:\\Program Files (x86)\\Microsoft Visual Studio\\Shared\\Anaconda3_64\\lib\\site-packages\\sklearn\\metrics\\classification.py:1135: UndefinedMetricWarning: Precision is ill-defined and being set to 0.0 in labels with no predicted samples.\n",
      "  'precision', 'predicted', average, warn_for)\n",
      "C:\\Program Files (x86)\\Microsoft Visual Studio\\Shared\\Anaconda3_64\\lib\\site-packages\\sklearn\\metrics\\classification.py:1135: UndefinedMetricWarning: Precision is ill-defined and being set to 0.0 in labels with no predicted samples.\n",
      "  'precision', 'predicted', average, warn_for)\n",
      "C:\\Program Files (x86)\\Microsoft Visual Studio\\Shared\\Anaconda3_64\\lib\\site-packages\\sklearn\\metrics\\classification.py:1135: UndefinedMetricWarning: Precision is ill-defined and being set to 0.0 in labels with no predicted samples.\n",
      "  'precision', 'predicted', average, warn_for)\n",
      "C:\\Program Files (x86)\\Microsoft Visual Studio\\Shared\\Anaconda3_64\\lib\\site-packages\\sklearn\\metrics\\classification.py:1135: UndefinedMetricWarning: Precision is ill-defined and being set to 0.0 in labels with no predicted samples.\n",
      "  'precision', 'predicted', average, warn_for)\n",
      "C:\\Program Files (x86)\\Microsoft Visual Studio\\Shared\\Anaconda3_64\\lib\\site-packages\\sklearn\\metrics\\classification.py:1135: UndefinedMetricWarning: Precision is ill-defined and being set to 0.0 in labels with no predicted samples.\n",
      "  'precision', 'predicted', average, warn_for)\n"
     ]
    },
    {
     "ename": "NameError",
     "evalue": "name 'cross_val_predict' is not defined",
     "output_type": "error",
     "traceback": [
      "\u001b[1;31m---------------------------------------------------------------------------\u001b[0m",
      "\u001b[1;31mNameError\u001b[0m                                 Traceback (most recent call last)",
      "\u001b[1;32m<ipython-input-15-72d9b374acea>\u001b[0m in \u001b[0;36m<module>\u001b[1;34m()\u001b[0m\n\u001b[0;32m      8\u001b[0m \u001b[1;31m#predict = clf.predict(X[-15:])\u001b[0m\u001b[1;33m\u001b[0m\u001b[1;33m\u001b[0m\u001b[0m\n\u001b[0;32m      9\u001b[0m \u001b[1;33m\u001b[0m\u001b[0m\n\u001b[1;32m---> 10\u001b[1;33m \u001b[0mpredicted_nb\u001b[0m \u001b[1;33m=\u001b[0m \u001b[0mcross_val_predict\u001b[0m\u001b[1;33m(\u001b[0m\u001b[0mclf\u001b[0m\u001b[1;33m,\u001b[0m \u001b[0mX\u001b[0m\u001b[1;33m,\u001b[0m \u001b[0mY\u001b[0m\u001b[1;33m,\u001b[0m \u001b[0mcv\u001b[0m\u001b[1;33m=\u001b[0m\u001b[1;36m5\u001b[0m\u001b[1;33m)\u001b[0m\u001b[1;33m\u001b[0m\u001b[0m\n\u001b[0m\u001b[0;32m     11\u001b[0m \u001b[1;33m\u001b[0m\u001b[0m\n\u001b[0;32m     12\u001b[0m \u001b[0mdata\u001b[0m \u001b[1;33m=\u001b[0m \u001b[1;33m{\u001b[0m\u001b[1;34m'Classificacao Naive Bayes'\u001b[0m\u001b[1;33m:\u001b[0m \u001b[0mpredicted_nb\u001b[0m\u001b[1;33m,\u001b[0m \u001b[1;34m\"target\"\u001b[0m\u001b[1;33m:\u001b[0m \u001b[0mY\u001b[0m\u001b[1;33m}\u001b[0m\u001b[1;33m\u001b[0m\u001b[0m\n",
      "\u001b[1;31mNameError\u001b[0m: name 'cross_val_predict' is not defined"
     ]
    }
   ],
   "source": [
    "scoring = ['precision_macro', 'recall_macro']\n",
    "\n",
    "scores = cross_validate(clf, X, Y, scoring=scoring, cv=5, return_train_score=True)\n",
    "\n",
    "sorted(scores.keys())\n",
    "\n",
    "#clf.fit(X[:140], Y[:140])\n",
    "#predict = clf.predict(X[-15:])\n",
    "\n",
    "predicted_nb = cross_val_predict(clf, X, Y, cv=5)\n",
    "\n",
    "data = {'Classificacao Naive Bayes': predicted_nb, \"target\": Y}\n",
    "\n",
    "dfNV = pd.DataFrame(data=data)\n"
   ]
  },
  {
   "cell_type": "markdown",
   "metadata": {},
   "source": [
    "\n",
    "## Classes indicadas pelo NaiveBayes"
   ]
  },
  {
   "cell_type": "code",
   "execution_count": 402,
   "metadata": {},
   "outputs": [
    {
     "name": "stdout",
     "output_type": "stream",
     "text": [
      "K-Fold cross validation. K = 5\n",
      "Classificação com Naive Bayes\n",
      "- Acuracia \t= 0.2597402597402597\n",
      "- Recall \t= [ 0.125  0.125  0.125  0.125  0.125]\n",
      "- Precisão \t= [ 0.02941176  0.03125     0.03333333  0.03333333  0.03571429]\n",
      "\n",
      "Acuracia para \n",
      " 6-fold = 0.2597402597402597 \n",
      " 3-Fold = 0.2597402597402597\n"
     ]
    },
    {
     "data": {
      "text/plain": [
       "Classificacao Naive Bayes\n",
       "Sub-Saharan Africa    154\n",
       "dtype: int64"
      ]
     },
     "execution_count": 402,
     "metadata": {},
     "output_type": "execute_result"
    }
   ],
   "source": [
    "print(\"K-Fold cross validation. K = 5\")\n",
    "print(\"Classificação com Naive Bayes\")\n",
    "print(\"- Acuracia \\t= {}\".format(metrics.accuracy_score(Y, predicted_3)))\n",
    "print(\"- Recall \\t= {}\".format(scores['test_recall_macro']))\n",
    "print(\"- Precisão \\t= {}\".format(scores['test_precision_macro']))\n",
    "\n",
    "predicted_6 = cross_val_predict(clf, X, Y, cv=6)\n",
    "predicted_3 = cross_val_predict(clf, X, Y, cv=3)\n",
    "\n",
    "print (\"\\nAcuracia para \\n 6-fold = {} \\n 3-Fold = {}\".format(metrics.accuracy_score(Y, predicted_6),\n",
    "metrics.accuracy_score(Y, predicted_3)))\n",
    "\n",
    "dfNV.groupby('Classificacao Naive Bayes').size()\n"
   ]
  },
  {
   "cell_type": "markdown",
   "metadata": {},
   "source": [
    "Vemos que para todas as entradas do banco foi indicada o mesmo atributo alvo, no caso pertence a região de \"africa\" que, com 40 entradas é a moda.\n"
   ]
  },
  {
   "cell_type": "code",
   "execution_count": 23,
   "metadata": {},
   "outputs": [
    {
     "data": {
      "text/plain": [
       "0.25324675324675322"
      ]
     },
     "execution_count": 23,
     "metadata": {},
     "output_type": "execute_result"
    }
   ],
   "source": [
    "from sklearn.model_selection import cross_val_predict\n",
    "from sklearn import metrics\n",
    "\n",
    "predicted = cross_val_predict(clf, X, Y, cv=6)\n",
    "metrics.accuracy_score(Y, predicted)\n",
    "\n"
   ]
  },
  {
   "cell_type": "code",
   "execution_count": 24,
   "metadata": {},
   "outputs": [
    {
     "data": {
      "text/plain": [
       "154"
      ]
     },
     "execution_count": 24,
     "metadata": {},
     "output_type": "execute_result"
    }
   ],
   "source": [
    "from sklearn.model_selection import LeaveOneOut\n",
    "\n",
    "loo = LeaveOneOut()\n",
    "loo.get_n_splits(X)\n",
    "\n"
   ]
  },
  {
   "cell_type": "markdown",
   "metadata": {},
   "source": [
    "##  Classificando com KNN"
   ]
  },
  {
   "cell_type": "code",
   "execution_count": 25,
   "metadata": {},
   "outputs": [
    {
     "data": {
      "text/plain": [
       "StandardScaler(copy=True, with_mean=True, with_std=True)"
      ]
     },
     "execution_count": 25,
     "metadata": {},
     "output_type": "execute_result"
    }
   ],
   "source": [
    "\n",
    "from sklearn.preprocessing import StandardScaler\n",
    "scaler = StandardScaler()\n",
    "scaler.fit(X)\n"
   ]
  },
  {
   "cell_type": "code",
   "execution_count": 26,
   "metadata": {
    "collapsed": true
   },
   "outputs": [],
   "source": [
    "scaled_features = scaler.transform(X)"
   ]
  },
  {
   "cell_type": "code",
   "execution_count": 27,
   "metadata": {
    "collapsed": true
   },
   "outputs": [],
   "source": [
    "X_train, y_train = X[:142], Y[:142]\n",
    "X_test = X[142:]"
   ]
  },
  {
   "cell_type": "code",
   "execution_count": 28,
   "metadata": {
    "collapsed": true
   },
   "outputs": [],
   "source": [
    "from sklearn.neighbors import KNeighborsClassifier\n",
    "knn = KNeighborsClassifier(n_neighbors=5)\n"
   ]
  },
  {
   "cell_type": "code",
   "execution_count": 29,
   "metadata": {},
   "outputs": [
    {
     "name": "stderr",
     "output_type": "stream",
     "text": [
      "C:\\Program Files (x86)\\Microsoft Visual Studio\\Shared\\Anaconda3_64\\lib\\site-packages\\sklearn\\metrics\\classification.py:1135: UndefinedMetricWarning: Precision is ill-defined and being set to 0.0 in labels with no predicted samples.\n",
      "  'precision', 'predicted', average, warn_for)\n",
      "C:\\Program Files (x86)\\Microsoft Visual Studio\\Shared\\Anaconda3_64\\lib\\site-packages\\sklearn\\metrics\\classification.py:1135: UndefinedMetricWarning: Precision is ill-defined and being set to 0.0 in labels with no predicted samples.\n",
      "  'precision', 'predicted', average, warn_for)\n"
     ]
    }
   ],
   "source": [
    "scoring = ['precision_macro', 'recall_macro']\n",
    "\n",
    "scores = cross_validate(knn, X, Y, scoring=scoring,\n",
    "                        cv=3, return_train_score=True)\n",
    "sorted(scores.keys())\n",
    "\n",
    "data = {'Classificação-KNN': predicted, \"target\": Y}\n",
    "\n",
    "dfknn = pd.DataFrame(data=data)"
   ]
  },
  {
   "cell_type": "code",
   "execution_count": 31,
   "metadata": {},
   "outputs": [
    {
     "name": "stdout",
     "output_type": "stream",
     "text": [
      "===== K fold cross validation  K = 3 ===== \n",
      "===== Tentativa de classificação do KNN k= 5 ===== \n",
      "- Acuracia \t= 0.24675324675324675\n",
      "- Recall \t= [ 0.10133929  0.16295788  0.18070818]\n",
      "- Precisão \t= [ 0.07904595  0.1758658   0.15502137]\n",
      "\n",
      "Acuracia para \n",
      " 6-fold = 0.24675324675324675 \n",
      " 3-Fold = 0.22077922077922077\n"
     ]
    },
    {
     "data": {
      "text/plain": [
       "Classificação-KNN\n",
       "Central and Eastern Europe      2\n",
       "Sub-Saharan Africa            151\n",
       "Western Europe                  1\n",
       "dtype: int64"
      ]
     },
     "execution_count": 31,
     "metadata": {},
     "output_type": "execute_result"
    }
   ],
   "source": [
    "print(\"===== K fold cross validation  K = 3 ===== \")\n",
    "print(\"===== Tentativa de classificação do KNN k= 5 ===== \")\n",
    "\n",
    "predicted_knn_3 = cross_val_predict(knn, X, Y, cv=3)\n",
    "predicted_knn_5 = cross_val_predict(knn, X, Y, cv=5)\n",
    "predicted_knn_6 = cross_val_predict(knn, X, Y, cv=6)\n",
    "\n",
    "print(\"- Acuracia \\t= {}\".format(metrics.accuracy_score(Y, predicted_knn_5)))\n",
    "print(\"- Recall \\t= {}\".format(scores['test_recall_macro']))\n",
    "print(\"- Precisão \\t= {}\".format(scores['test_precision_macro']))\n",
    "\n",
    "\n",
    "print (\"\\nAcuracia para \\n 6-fold = {} \\n 3-Fold = {}\".format(metrics.accuracy_score(Y, predicted_knn_6),\n",
    "metrics.accuracy_score(Y, predicted_knn_3)))\n",
    "\n",
    "\n",
    "dfknn.groupby('Classificação-KNN').size()"
   ]
  },
  {
   "cell_type": "code",
   "execution_count": 27,
   "metadata": {},
   "outputs": [
    {
     "name": "stdout",
     "output_type": "stream",
     "text": [
      "Acuracia para \n",
      " 10-fold = 0.5443037974683544 \n",
      " 5-Fold = 0.569620253164557\n"
     ]
    },
    {
     "name": "stderr",
     "output_type": "stream",
     "text": [
      "C:\\Program Files (x86)\\Microsoft Visual Studio\\Shared\\Anaconda3_64\\lib\\site-packages\\sklearn\\model_selection\\_split.py:597: Warning: The least populated class in y has only 2 members, which is too few. The minimum number of members in any class cannot be less than n_splits=10.\n",
      "  % (min_groups, self.n_splits)), Warning)\n",
      "C:\\Program Files (x86)\\Microsoft Visual Studio\\Shared\\Anaconda3_64\\lib\\site-packages\\sklearn\\model_selection\\_split.py:597: Warning: The least populated class in y has only 2 members, which is too few. The minimum number of members in any class cannot be less than n_splits=5.\n",
      "  % (min_groups, self.n_splits)), Warning)\n"
     ]
    }
   ],
   "source": [
    "predicted_10 = cross_val_predict(knn, X, Y, cv=10)\n",
    "predicted_5 = cross_val_predict(knn, X, Y, cv=5)\n",
    "\n",
    "print (\"Acuracia para \\n 10-fold = {} \\n 5-Fold = {}\".format(metrics.accuracy_score(Y, predicted_10),\n",
    "metrics.accuracy_score(Y, predicted_5)))\n",
    "\n"
   ]
  }
 ],
 "metadata": {
  "kernelspec": {
   "display_name": "Python 3",
   "language": "python",
   "name": "python3"
  },
  "language_info": {
   "codemirror_mode": {
    "name": "ipython",
    "version": 3
   },
   "file_extension": ".py",
   "mimetype": "text/x-python",
   "name": "python",
   "nbconvert_exporter": "python",
   "pygments_lexer": "ipython3",
   "version": "3.6.2"
  }
 },
 "nbformat": 4,
 "nbformat_minor": 2
}
